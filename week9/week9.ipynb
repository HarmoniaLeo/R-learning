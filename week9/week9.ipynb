{
 "cells": [
  {
   "cell_type": "code",
   "execution_count": 1,
   "source": [
    "import numpy as np\n",
    "import matplotlib.pyplot as plt\n",
    "from scipy.stats import t\n",
    "import pandas as pd\n",
    "\n",
    "def doubletTest(x,y,alpha=0.05,h1=\"\\=\"):\n",
    "    sigmax = x.std()\n",
    "    sigmay = y.std()\n",
    "    n1 = x.shape[0]\n",
    "    n2 = y.shape[0]\n",
    "    sw = np.sqrt(((n1-1)*sigmax**2+(n2-1)*sigmay**2)/(n1+n2-2))\n",
    "    T = (x.mean()-y.mean())/(sw*np.sqrt(1/n1+1/n2))\n",
    "    if h1==\"\\=\":\n",
    "        print(\"H0 (pvalue > {0}): Mean x == Mean y. \".format(alpha))\n",
    "        print(\"H1 (pvalue < {0}): Mean x \\= Mean y. \".format(alpha))\n",
    "        p = 2 * (1 - t.cdf(abs(T),n1+n2-2))\n",
    "    elif h1==\"<\":\n",
    "        print(\"H0 (pvalue > {0}): Mean x >= Mean y. \".format(alpha))\n",
    "        print(\"H1 (pvalue < {0}): Mean x < Mean y. \".format(alpha))\n",
    "        p = t.cdf(T,n1+n2-2)\n",
    "    elif h1==\">\":\n",
    "        print(\"H0 (pvalue > {0}): Mean x <= Mean y. \".format(alpha))\n",
    "        print(\"H1 (pvalue < {0}): Mean x > Mean y. \".format(alpha))\n",
    "        p = 1 - t.cdf(T,n1+n2-2)\n",
    "    print(\"statistic: \",T)\n",
    "    print(\"pvalue \",p)\n",
    "\n",
    "doubletTest(pd.Series([0,1,1,1,0,0,0]),pd.Series([0,1,1,0,1,2,0]))"
   ],
   "outputs": [
    {
     "output_type": "stream",
     "name": "stdout",
     "text": [
      "H0 (pvalue > 0.05): Mean x == Mean y. \n",
      "H1 (pvalue < 0.05): Mean x \\= Mean y. \n",
      "statistic:  -0.8164965809277263\n",
      "pvalue  0.43012732524311414\n"
     ]
    }
   ],
   "metadata": {}
  },
  {
   "cell_type": "code",
   "execution_count": 13,
   "source": [
    "import numpy as np\n",
    "from scipy.stats import t\n",
    "\n",
    "def welchtTest(x,y,alpha=0.05,h1=\"\\=\"):\n",
    "    varx = x.var()\n",
    "    vary = y.var()\n",
    "    n1 = x.shape[0]\n",
    "    n2 = y.shape[0]\n",
    "    T = (x.mean()-y.mean())/np.sqrt(varx/n1+vary/n2)\n",
    "    k = (varx/n1+vary/n2)**2/((varx/n1)**2/(n1-1)+(vary/n2)**2/(n2-1))\n",
    "    if h1==\"\\=\":\n",
    "        print(\"H0 (pvalue > {0}): Mean x == Mean y. \".format(alpha))\n",
    "        print(\"H1 (pvalue < {0}): Mean x \\= Mean y. \".format(alpha))\n",
    "        p = 2 * (1 - t.cdf(abs(T),k))\n",
    "    elif h1==\"<\":\n",
    "        print(\"H0 (pvalue > {0}): Mean x >= Mean y. \".format(alpha))\n",
    "        print(\"H1 (pvalue < {0}): Mean x < Mean y. \".format(alpha))\n",
    "        p = t.cdf(T,k)\n",
    "    elif h1==\">\":\n",
    "        print(\"H0 (pvalue > {0}): Mean x <= Mean y. \".format(alpha))\n",
    "        print(\"H1 (pvalue < {0}): Mean x > Mean y. \".format(alpha))\n",
    "        p = 1 - t.cdf(T,k)\n",
    "    print(\"statistic: \",T)\n",
    "    print(\"pvalue \",p)\n",
    "\n",
    "welchtTest(pd.Series([0,1,1,1,0,0,0]),pd.Series([0,1,1,0,1,2,0]))"
   ],
   "outputs": [
    {
     "output_type": "stream",
     "name": "stdout",
     "text": [
      "H0 (pvalue > 0.05): Mean x == Mean y. \n",
      "H1 (pvalue < 0.05): Mean x \\= Mean y. \n",
      "statistic:  -0.8164965809277263\n",
      "pvalue  0.4318574876525725\n"
     ]
    }
   ],
   "metadata": {}
  }
 ],
 "metadata": {
  "orig_nbformat": 4,
  "language_info": {
   "name": "python",
   "version": "3.8.3",
   "mimetype": "text/x-python",
   "codemirror_mode": {
    "name": "ipython",
    "version": 3
   },
   "pygments_lexer": "ipython3",
   "nbconvert_exporter": "python",
   "file_extension": ".py"
  },
  "kernelspec": {
   "name": "python3",
   "display_name": "Python 3.8.3 64-bit ('base': conda)"
  },
  "interpreter": {
   "hash": "ec6d9dafd5cbf44a7deb0ee208de5a8e6bc375a34e5c6f7aad6a434b6e159539"
  }
 },
 "nbformat": 4,
 "nbformat_minor": 2
}