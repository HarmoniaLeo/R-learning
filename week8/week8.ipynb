{
 "cells": [
  {
   "cell_type": "code",
   "execution_count": 1,
   "source": [
    "from sklearn import datasets\n",
    "import pandas as pd\n",
    "\n",
    "iris_datas = datasets.load_iris()\n",
    "iris_datas = pd.DataFrame(iris_datas['data'])"
   ],
   "outputs": [],
   "metadata": {}
  },
  {
   "cell_type": "code",
   "execution_count": 10,
   "source": [
    "import matplotlib.pyplot as plt\n",
    "from scipy.stats import probplot\n",
    "\n",
    "def qqplot(s):\n",
    "    plt.hist(s)\n",
    "    plt.show()\n",
    "    probplot(s, plot=plt)\n",
    "\n",
    "qqplot(iris_datas[0])"
   ],
   "outputs": [
    {
     "output_type": "display_data",
     "data": {
      "image/png": "[encoded data removed]",
      "text/plain": [
       "<Figure size 432x288 with 1 Axes>"
      ]
     },
     "metadata": {
      "needs_background": "light"
     }
    },
    {
     "output_type": "display_data",
     "data": {
      "image/png": "[encoded data removed]",
      "text/plain": [
       "<Figure size 432x288 with 1 Axes>"
      ]
     },
     "metadata": {
      "needs_background": "light"
     }
    }
   ],
   "metadata": {}
  },
  {
   "cell_type": "code",
   "execution_count": 11,
   "source": [
    "from scipy import stats\n",
    "\n",
    "def ksTest(s):\n",
    "\tprint(\"H0 (pvalue > alpha): It is normal distributed. \")\n",
    "\tprint(\"H1 (pvalue < alpha): It isn't normal distributed. \")\n",
    "\tprint(stats.kstest(s, 'norm', (s.mean(), s.std())))\n",
    "\n",
    "ksTest(iris_datas[0])"
   ],
   "outputs": [
    {
     "output_type": "stream",
     "name": "stdout",
     "text": [
      "H0 (pvalue>0.05): It is normal distributed. \n",
      "H1 (pvalue<0.05): It isn't normal distributed. \n",
      "KstestResult(statistic=0.08865361377316261, pvalue=0.1781373784859167)\n"
     ]
    }
   ],
   "metadata": {}
  },
  {
   "cell_type": "code",
   "execution_count": 13,
   "source": [
    "from scipy.stats import t\n",
    "\n",
    "def mu_t_ci(s,alpha=0.05):\n",
    "    mean=s.mean()\n",
    "    sigma=s.std()\n",
    "    minv=mean-sigma/s.shape[0]*t.ppf(1-alpha/2,s.shape[0]-1)\n",
    "    maxv=mean+sigma/s.shape[0]*t.ppf(1-alpha/2,s.shape[0]-1)\n",
    "    return minv,maxv\n",
    "\n",
    "mu_t_ci(iris_datas[0])"
   ],
   "outputs": [
    {
     "output_type": "execute_result",
     "data": {
      "text/plain": [
       "(5.832424869460842, 5.854241797205828)"
      ]
     },
     "metadata": {},
     "execution_count": 13
    }
   ],
   "metadata": {}
  },
  {
   "cell_type": "code",
   "execution_count": 22,
   "source": [
    "from scipy.stats import chi2\n",
    "import numpy as np\n",
    "\n",
    "def sigma_ci(s,alpha=0.05):\n",
    "    z1=chi2.ppf(1-alpha/2,s.shape[0])\n",
    "    z2=chi2.ppf(alpha/2,s.shape[0])\n",
    "    minv=s.var()*(s.shape[0]-1)/z1\n",
    "    maxv=s.var()*(s.shape[0]-1)/z2\n",
    "    return minv,maxv\n",
    "\n",
    "sigma_ci(iris_datas[0])"
   ],
   "outputs": [
    {
     "output_type": "execute_result",
     "data": {
      "text/plain": [
       "(0.5498820642301656, 0.8659469675697762)"
      ]
     },
     "metadata": {},
     "execution_count": 22
    }
   ],
   "metadata": {}
  },
  {
   "cell_type": "code",
   "execution_count": 34,
   "source": [
    "seq = [1,0,1,1,0,0,1,0]\n",
    "\n",
    "from scipy.stats import t\n",
    "\n",
    "def mu_t_ci(s,alpha=0.05):\n",
    "    mean=s.mean()\n",
    "    sigma=s.std()\n",
    "    minv=mean-sigma/s.shape[0]*t.ppf(1-alpha/2,s.shape[0]-1)\n",
    "    maxv=mean+sigma/s.shape[0]*t.ppf(1-alpha/2,s.shape[0]-1)\n",
    "    return minv,maxv\n",
    "\n",
    "mu_t_ci(pd.Series(seq))"
   ],
   "outputs": [
    {
     "output_type": "execute_result",
     "data": {
      "text/plain": [
       "(0.34200689650468774, 0.6579931034953123)"
      ]
     },
     "metadata": {},
     "execution_count": 34
    }
   ],
   "metadata": {}
  },
  {
   "cell_type": "code",
   "execution_count": 32,
   "source": [
    "import numpy as np\n",
    "from scipy.stats import t\n",
    "\n",
    "def tTest(s,mu,h0=\"==\"):\n",
    "    sigma = s.std()\n",
    "    n = s.shape[0]\n",
    "    T = (s.mean()-mu)/(sigma/np.sqrt(n))\n",
    "    if h0==\"==\":\n",
    "        print(\"H0 (pvalue > alpha): It's mean == {0}. \".format(mu))\n",
    "        print(\"H1 (pvalue < alpha): It's mean \\= {0}. \".format(mu))\n",
    "        p = 2 * (1 - t.cdf(abs(T),n-1))\n",
    "    elif h0==\">=\":\n",
    "        print(\"H0 (pvalue > alpha): It's mean >= {0}. \".format(mu))\n",
    "        print(\"H1 (pvalue < alpha): It's mean < {0}. \".format(mu))\n",
    "        p = t.cdf(T,n-1)\n",
    "    elif h0==\"<=\":\n",
    "        print(\"H0 (pvalue > alpha): It's mean <= {0}. \".format(mu))\n",
    "        print(\"H1 (pvalue < alpha): It's mean > {0}. \".format(mu))\n",
    "        p = 1 - t.cdf(T,n-1)\n",
    "    print(\"statistic: \",T)\n",
    "    print(\"pvalue \",p)\n",
    "\n",
    "seq = pd.Series([0,1,1,1,0,0,0])\n",
    "tTest(seq,0.5,h0=\">=\")"
   ],
   "outputs": [
    {
     "output_type": "stream",
     "name": "stdout",
     "text": [
      "H0 (pvalue > alpha): It's mean >= 0.5. \n",
      "H1 (pvalue < alpha): It's mean < 0.5. \n",
      "statistic:  -0.35355339059327395\n",
      "pvalue  0.36788242993990594\n"
     ]
    }
   ],
   "metadata": {}
  },
  {
   "cell_type": "code",
   "execution_count": 107,
   "source": [
    "import numpy as np\n",
    "from scipy.stats import t\n",
    "\n",
    "def pairedtTest(x,y,h0=\"==\"):\n",
    "    sigmax = x.std()\n",
    "    sigmay = y.std()\n",
    "    n1 = x.shape[0]\n",
    "    n2 = y.shape[0]\n",
    "    sw = np.sqrt(((n1-1)*sigmax**2+(n2-1)*sigmay**2)/(n1+n2-2))\n",
    "    T = (x.mean()-y.mean())/(sw*np.sqrt(1/n1+1/n2))\n",
    "    if h0==\"==\":\n",
    "        print(\"H0 (pvalue > alpha): Mean x == Mean y. \")\n",
    "        print(\"H1 (pvalue < alpha): Mean x \\= Mean y. \")\n",
    "        p = 2 * (1 - t.cdf(abs(T),(n1+n2-2)/2))\n",
    "    elif h0==\">=\":\n",
    "        print(\"H0 (pvalue > alpha): Mean x >= Mean y. \")\n",
    "        print(\"H1 (pvalue < alpha): Mean x < Mean y. \")\n",
    "        p = t.cdf(T,(n1+n2-2)/2)\n",
    "    elif h0==\"<=\":\n",
    "        print(\"H0 (pvalue > alpha): Mean x <= Mean y. \")\n",
    "        print(\"H1 (pvalue < alpha): Mean x > Mean y. \")\n",
    "        p = 1 - t.cdf(T,(n1+n2-2)/2)\n",
    "    print(\"statistic: \",T)\n",
    "    print(\"pvalue \",p)\n",
    "\n",
    "seq=pd.Series([0,1,1,1,0,0,0,1])\n",
    "seq1=pd.Series([0,1,1,1,1,0,0])"
   ],
   "outputs": [],
   "metadata": {}
  },
  {
   "cell_type": "code",
   "execution_count": 112,
   "source": [
    "import numpy as np\n",
    "from scipy.stats import t\n",
    "\n",
    "def doubletTest(x,y,h1=\"\\=\"):\n",
    "    sigmax = x.std()\n",
    "    sigmay = y.std()\n",
    "    n1 = x.shape[0]\n",
    "    n2 = y.shape[0]\n",
    "    sw = np.sqrt(((n1-1)*sigmax**2+(n2-1)*sigmay**2)/(n1+n2-2))\n",
    "    T = (x.mean()-y.mean())/(sw*np.sqrt(1/n1+1/n2))\n",
    "    if h1==\"\\=\":\n",
    "        print(\"H0 (pvalue > alpha): Mean x == Mean y. \")\n",
    "        print(\"H1 (pvalue < alpha): Mean x \\= Mean y. \")\n",
    "        p = 2 * (1 - t.cdf(abs(T),n1+n2-2))\n",
    "    elif h1==\"<\":\n",
    "        print(\"H0 (pvalue > alpha): Mean x >= Mean y. \")\n",
    "        print(\"H1 (pvalue < alpha): Mean x < Mean y. \")\n",
    "        p = t.cdf(T,n1+n2-2)\n",
    "    elif h1==\">\":\n",
    "        print(\"H0 (pvalue > alpha): Mean x <= Mean y. \")\n",
    "        print(\"H1 (pvalue < alpha): Mean x > Mean y. \")\n",
    "        p = 1 - t.cdf(T,n1+n2-2)\n",
    "    print(\"statistic: \",T)\n",
    "    print(\"pvalue \",p)\n",
    "\n",
    "doubletTest(seq,seq1)"
   ],
   "outputs": [
    {
     "output_type": "stream",
     "name": "stdout",
     "text": [
      "H0 (pvalue > alpha): Mean x == Mean y. \n",
      "H1 (pvalue < alpha): Mean x \\= Mean y. \n",
      "statistic:  -0.258198889747161\n",
      "pvalue  0.8002959873970545\n"
     ]
    }
   ],
   "metadata": {}
  },
  {
   "cell_type": "code",
   "execution_count": 109,
   "source": [
    "from scipy.stats import ttest_ind\n",
    "\n",
    "ttest_ind(seq,seq1)"
   ],
   "outputs": [
    {
     "output_type": "execute_result",
     "data": {
      "text/plain": [
       "Ttest_indResult(statistic=-0.25819888974716104, pvalue=0.8002959873970544)"
      ]
     },
     "metadata": {},
     "execution_count": 109
    }
   ],
   "metadata": {}
  },
  {
   "cell_type": "code",
   "execution_count": 132,
   "source": [
    "import numpy as np\n",
    "from sklearn.utils import resample\n",
    "\n",
    "def median(seq):\n",
    "    return seq.median()\n",
    "\n",
    "def bootstrap_ci(s,func,alpha=0.05,n=0.5,rounds = 1000):\n",
    "    if type(n)==float:\n",
    "        n = int(len(s)*n)\n",
    "    thetas = []\n",
    "    for i in range(rounds):\n",
    "        samples = resample(s,n_samples=n)\n",
    "        thetas.append(func(samples))\n",
    "    thetas = np.array(thetas)\n",
    "    return np.percentile(thetas,alpha/2*100),np.percentile(thetas,(1-alpha/2)*100)\n",
    "\n",
    "seq=pd.Series(np.random.randn(100))\n",
    "bootstrap_ci(seq,median)"
   ],
   "outputs": [
    {
     "output_type": "execute_result",
     "data": {
      "text/plain": [
       "(-0.36888981628162604, 0.35305887893829735)"
      ]
     },
     "metadata": {},
     "execution_count": 132
    }
   ],
   "metadata": {}
  },
  {
   "cell_type": "code",
   "execution_count": 133,
   "source": [
    "from matplotlib import pyplot as plt\n",
    "import seaborn as sns\n",
    "\n",
    "sns.distplot(seq,hist=True,kde=True,bins=20,label=\"None\")\n",
    "seq.median()"
   ],
   "outputs": [
    {
     "output_type": "stream",
     "name": "stderr",
     "text": [
      "/Users/harmonialeo/opt/anaconda3/lib/python3.8/site-packages/seaborn/distributions.py:2557: FutureWarning: `distplot` is a deprecated function and will be removed in a future version. Please adapt your code to use either `displot` (a figure-level function with similar flexibility) or `histplot` (an axes-level function for histograms).\n",
      "  warnings.warn(msg, FutureWarning)\n"
     ]
    },
    {
     "output_type": "execute_result",
     "data": {
      "text/plain": [
       "0.01115687848646376"
      ]
     },
     "metadata": {},
     "execution_count": 133
    },
    {
     "output_type": "display_data",
     "data": {
      "image/png": "[encoded data removed]",
      "text/plain": [
       "<Figure size 432x288 with 1 Axes>"
      ]
     },
     "metadata": {
      "needs_background": "light"
     }
    }
   ],
   "metadata": {}
  }
 ],
 "metadata": {
  "orig_nbformat": 4,
  "language_info": {
   "name": "python",
   "version": "3.8.3",
   "mimetype": "text/x-python",
   "codemirror_mode": {
    "name": "ipython",
    "version": 3
   },
   "pygments_lexer": "ipython3",
   "nbconvert_exporter": "python",
   "file_extension": ".py"
  },
  "kernelspec": {
   "name": "python3",
   "display_name": "Python 3.8.3 64-bit ('base': conda)"
  },
  "interpreter": {
   "hash": "ec6d9dafd5cbf44a7deb0ee208de5a8e6bc375a34e5c6f7aad6a434b6e159539"
  }
 },
 "nbformat": 4,
 "nbformat_minor": 2
}